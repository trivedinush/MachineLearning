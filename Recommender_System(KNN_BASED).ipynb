{
  "nbformat": 4,
  "nbformat_minor": 0,
  "metadata": {
    "colab": {
      "name": "Recommender System(KNN BASED).ipynb",
      "provenance": [],
      "collapsed_sections": [],
      "include_colab_link": true
    },
    "kernelspec": {
      "name": "python3",
      "display_name": "Python 3"
    }
  },
  "cells": [
    {
      "cell_type": "markdown",
      "metadata": {
        "id": "view-in-github",
        "colab_type": "text"
      },
      "source": [
        "<a href=\"https://colab.research.google.com/github/trivedinush/MachineLearning/blob/master/Recommender_System(KNN_BASED).ipynb\" target=\"_parent\"><img src=\"https://colab.research.google.com/assets/colab-badge.svg\" alt=\"Open In Colab\"/></a>"
      ]
    },
    {
      "cell_type": "code",
      "metadata": {
        "id": "99B4oRnNv6w4",
        "colab_type": "code",
        "outputId": "4cff9284-7acd-4400-acdd-013f5edc294c",
        "colab": {
          "base_uri": "https://localhost:8080/",
          "height": 309
        }
      },
      "source": [
        "!pip install surprise"
      ],
      "execution_count": 1,
      "outputs": [
        {
          "output_type": "stream",
          "text": [
            "Collecting surprise\n",
            "  Downloading https://files.pythonhosted.org/packages/61/de/e5cba8682201fcf9c3719a6fdda95693468ed061945493dea2dd37c5618b/surprise-0.1-py2.py3-none-any.whl\n",
            "Collecting scikit-surprise\n",
            "\u001b[?25l  Downloading https://files.pythonhosted.org/packages/f5/da/b5700d96495fb4f092be497f02492768a3d96a3f4fa2ae7dea46d4081cfa/scikit-surprise-1.1.0.tar.gz (6.4MB)\n",
            "\u001b[K     |████████████████████████████████| 6.5MB 2.7MB/s \n",
            "\u001b[?25hRequirement already satisfied: joblib>=0.11 in /usr/local/lib/python3.6/dist-packages (from scikit-surprise->surprise) (0.14.1)\n",
            "Requirement already satisfied: numpy>=1.11.2 in /usr/local/lib/python3.6/dist-packages (from scikit-surprise->surprise) (1.17.5)\n",
            "Requirement already satisfied: scipy>=1.0.0 in /usr/local/lib/python3.6/dist-packages (from scikit-surprise->surprise) (1.4.1)\n",
            "Requirement already satisfied: six>=1.10.0 in /usr/local/lib/python3.6/dist-packages (from scikit-surprise->surprise) (1.12.0)\n",
            "Building wheels for collected packages: scikit-surprise\n",
            "  Building wheel for scikit-surprise (setup.py) ... \u001b[?25l\u001b[?25hdone\n",
            "  Created wheel for scikit-surprise: filename=scikit_surprise-1.1.0-cp36-cp36m-linux_x86_64.whl size=1678234 sha256=0e35ce5bc60b0f4e7aab45419100d0409ad9b9de89de2142db1112c9a22cde1a\n",
            "  Stored in directory: /root/.cache/pip/wheels/cc/fa/8c/16c93fccce688ae1bde7d979ff102f7bee980d9cfeb8641bcf\n",
            "Successfully built scikit-surprise\n",
            "Installing collected packages: scikit-surprise, surprise\n",
            "Successfully installed scikit-surprise-1.1.0 surprise-0.1\n"
          ],
          "name": "stdout"
        }
      ]
    },
    {
      "cell_type": "code",
      "metadata": {
        "id": "12v2K2I8v7q5",
        "colab_type": "code",
        "outputId": "62974850-4b1e-46fb-858b-48696d576db9",
        "colab": {
          "base_uri": "https://localhost:8080/",
          "height": 85
        }
      },
      "source": [
        "from surprise import KNNBasic\n",
        "from surprise import Dataset\n",
        "from surprise import Reader\n",
        "import pandas as pd\n",
        "movies =['star wars','star wars','got','got','south park', 'star wars', 'harry potter', 'harry potter']\n",
        "rating =[1,5,1,3,5,3,5,5]\n",
        "users =['kim','tim','nim','sim','dim','lim','mim','bim',]\n",
        "rating_dict={'user':users,'item':movies, 'rating':rating}\n",
        "def FriendRecommender(user):\n",
        "  df=pd.DataFrame(rating_dict)\n",
        "  reader=Reader(rating_scale=(1,5))\n",
        "  data=Dataset.load_from_df(df[['user','item','rating']], reader)\n",
        "  trainset=data.build_full_trainset()\n",
        "  sim_options={'name':'cosine',\n",
        "               'user_based':True}\n",
        "  algo=KNNBasic(sim_options)\n",
        "  algo.fit(trainset)\n",
        "  uid=trainset.to_inner_uid(user)\n",
        "  pred=algo.get_neighbors(uid,2)\n",
        "  for i in pred:\n",
        "    print(trainset.to_raw_uid(i))\n",
        "\n",
        "FriendRecommender('bim')"
      ],
      "execution_count": 2,
      "outputs": [
        {
          "output_type": "stream",
          "text": [
            "Computing the msd similarity matrix...\n",
            "Done computing similarity matrix.\n",
            "mim\n",
            "kim\n"
          ],
          "name": "stdout"
        }
      ]
    },
    {
      "cell_type": "markdown",
      "metadata": {
        "id": "_YsfTSHE86h0",
        "colab_type": "text"
      },
      "source": [
        ""
      ]
    },
    {
      "cell_type": "markdown",
      "metadata": {
        "id": "q9aZuPWJ4YMJ",
        "colab_type": "text"
      },
      "source": [
        "knn is non parameters that means it doesnt make any aasumption is an underline data distribution \n",
        "it is instance based module never .it does memorize training instance \n",
        "set of level objects, distance blw object,value of k.\n",
        "distance may be euclidian dist,Minkowski, Hamming,cosine,Mahalnobis,Manhation.\n"
      ]
    }
  ]
}