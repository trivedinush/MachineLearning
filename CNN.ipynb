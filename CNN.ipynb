{
  "nbformat": 4,
  "nbformat_minor": 0,
  "metadata": {
    "colab": {
      "name": "CNN.ipynb",
      "provenance": [],
      "collapsed_sections": [],
      "include_colab_link": true
    },
    "kernelspec": {
      "name": "python3",
      "display_name": "Python 3"
    },
    "accelerator": "GPU"
  },
  "cells": [
    {
      "cell_type": "markdown",
      "metadata": {
        "id": "view-in-github",
        "colab_type": "text"
      },
      "source": [
        "<a href=\"https://colab.research.google.com/github/trivedinush/MachineLearning/blob/master/CNN.ipynb\" target=\"_parent\"><img src=\"https://colab.research.google.com/assets/colab-badge.svg\" alt=\"Open In Colab\"/></a>"
      ]
    },
    {
      "cell_type": "code",
      "metadata": {
        "id": "bTQBPCfdztDL",
        "colab_type": "code",
        "colab": {}
      },
      "source": [
        "import numpy as np\n",
        "import keras\n",
        "\n",
        "from keras.utils import plot_model\n",
        "#plot_model(model, to_file='model.png')\n",
        "\n",
        "from keras.datasets import mnist\n",
        "from keras.models import Sequential\n",
        "from keras.layers import Dense, Dropout, Flatten, Conv2D, MaxPooling2D\n",
        "from keras import backend as K\n",
        "from keras.preprocessing import image\n",
        "from keras.applications.mobilenet import MobileNet\n",
        "from keras.applications.vgg16 import preprocess_input, decode_predictions\n",
        "from keras.models import Model\n",
        "import timeit\n",
        "\n",
        "import warnings\n",
        "warnings.filterwarnings('ignore')"
      ],
      "execution_count": 0,
      "outputs": []
    },
    {
      "cell_type": "code",
      "metadata": {
        "id": "R35_GC4d0FI0",
        "colab_type": "code",
        "outputId": "d56ff739-63ab-4f69-f556-c44403d5e2b9",
        "colab": {
          "base_uri": "https://localhost:8080/",
          "height": 102
        }
      },
      "source": [
        "batch_size = 240\n",
        "num_classes = 10\n",
        "epochs = 1\n",
        "\n",
        "# input image dimensions\n",
        "img_rows, img_cols = 28, 28\n",
        "\n",
        "# the data, shuffled and split between train and test sets\n",
        "(x_train, y_train), (x_test, y_test) = mnist.load_data()\n",
        "\n",
        "if K.image_data_format() == 'channels_first':\n",
        "    x_train = x_train.reshape(x_train.shape[0], 1, img_rows, img_cols)\n",
        "    x_test = x_test.reshape(x_test.shape[0], 1, img_rows, img_cols)\n",
        "    input_shape = (1, img_rows, img_cols)\n",
        "else:\n",
        "    x_train = x_train.reshape(x_train.shape[0], img_rows, img_cols, 1)\n",
        "    x_test = x_test.reshape(x_test.shape[0], img_rows, img_cols, 1)\n",
        "    input_shape = (img_rows, img_cols, 1)\n",
        "\n",
        "x_train = x_train.astype('float32')\n",
        "x_test = x_test.astype('float32')\n",
        "x_train /= 255\n",
        "x_test /= 255\n",
        "print('x_train shape:', x_train.shape)\n",
        "print(x_train.shape[0], 'train samples')\n",
        "print(x_test.shape[0], 'test samples')\n",
        "\n",
        "# convert class vectors to binary class matrices\n",
        "y_train = keras.utils.to_categorical(y_train, num_classes)\n",
        "y_test = keras.utils.to_categorical(y_test, num_classes)"
      ],
      "execution_count": 3,
      "outputs": [
        {
          "output_type": "stream",
          "text": [
            "Downloading data from https://s3.amazonaws.com/img-datasets/mnist.npz\n",
            "11493376/11490434 [==============================] - 0s 0us/step\n",
            "x_train shape: (60000, 28, 28, 1)\n",
            "60000 train samples\n",
            "10000 test samples\n"
          ],
          "name": "stdout"
        }
      ]
    },
    {
      "cell_type": "code",
      "metadata": {
        "id": "Eycals-a0NA5",
        "colab_type": "code",
        "outputId": "681e96ac-2742-4f5b-9dd8-0bc15d8c1baf",
        "colab": {
          "base_uri": "https://localhost:8080/",
          "height": 459
        }
      },
      "source": [
        "model = Sequential()\n",
        "model.add(Conv2D(8, kernel_size=(4, 4), activation='relu', input_shape=input_shape))\n",
        "model.add(MaxPooling2D(pool_size=(2, 2), strides=1))\n",
        "#keras.layers.MaxPooling2D(pool_size=(2, 2), strides=2, padding='valid', data_format=None)\n",
        "#keras.layers.AveragePooling1D(pool_size=2, strides=None, padding='valid', data_format='channels_last')\n",
        "\n",
        "model.add(Conv2D(16, (7, 7), activation='relu'))\n",
        "model.add(MaxPooling2D(pool_size=(2, 2),strides=1))\n",
        "#keras.layers.MaxPooling2D(pool_size=(2, 2), strides=None, padding='valid', data_format=None)\n",
        "#keras.layers.AveragePooling1D(pool_size=2, strides=None, padding='valid', data_format='channels_last')\n",
        "\n",
        "model.add(Dropout(0.25))\n",
        "model.add(Flatten())\n",
        "model.add(Dense(64, activation='relu'))\n",
        "model.add(Dropout(0.5))\n",
        "model.add(Dense(num_classes, activation='softmax'))\n",
        "model.summary()"
      ],
      "execution_count": 8,
      "outputs": [
        {
          "output_type": "stream",
          "text": [
            "Model: \"sequential_4\"\n",
            "_________________________________________________________________\n",
            "Layer (type)                 Output Shape              Param #   \n",
            "=================================================================\n",
            "conv2d_7 (Conv2D)            (None, 25, 25, 8)         136       \n",
            "_________________________________________________________________\n",
            "max_pooling2d_5 (MaxPooling2 (None, 24, 24, 8)         0         \n",
            "_________________________________________________________________\n",
            "conv2d_8 (Conv2D)            (None, 18, 18, 16)        6288      \n",
            "_________________________________________________________________\n",
            "max_pooling2d_6 (MaxPooling2 (None, 17, 17, 16)        0         \n",
            "_________________________________________________________________\n",
            "dropout_7 (Dropout)          (None, 17, 17, 16)        0         \n",
            "_________________________________________________________________\n",
            "flatten_4 (Flatten)          (None, 4624)              0         \n",
            "_________________________________________________________________\n",
            "dense_7 (Dense)              (None, 64)                296000    \n",
            "_________________________________________________________________\n",
            "dropout_8 (Dropout)          (None, 64)                0         \n",
            "_________________________________________________________________\n",
            "dense_8 (Dense)              (None, 10)                650       \n",
            "=================================================================\n",
            "Total params: 303,074\n",
            "Trainable params: 303,074\n",
            "Non-trainable params: 0\n",
            "_________________________________________________________________\n"
          ],
          "name": "stdout"
        }
      ]
    },
    {
      "cell_type": "code",
      "metadata": {
        "id": "tn753RJd0Qpq",
        "colab_type": "code",
        "outputId": "eacfe8ba-4101-4c26-d127-e8f4c220e8d2",
        "colab": {
          "base_uri": "https://localhost:8080/",
          "height": 85
        }
      },
      "source": [
        "model.compile(loss=keras.losses.categorical_crossentropy,\n",
        "              optimizer=keras.optimizers.Adadelta(),\n",
        "              metrics=['accuracy'])\n",
        "\n",
        "model.fit(x_train, y_train,\n",
        "          batch_size=batch_size,\n",
        "          epochs=epochs,\n",
        "          verbose=1,\n",
        "          validation_data=(x_test, y_test))"
      ],
      "execution_count": 10,
      "outputs": [
        {
          "output_type": "stream",
          "text": [
            "Train on 60000 samples, validate on 10000 samples\n",
            "Epoch 1/1\n",
            "60000/60000 [==============================] - 2s 41us/step - loss: 0.1289 - acc: 0.9620 - val_loss: 0.0485 - val_acc: 0.9836\n"
          ],
          "name": "stdout"
        },
        {
          "output_type": "execute_result",
          "data": {
            "text/plain": [
              "<keras.callbacks.History at 0x7f9a400c2c88>"
            ]
          },
          "metadata": {
            "tags": []
          },
          "execution_count": 10
        }
      ]
    },
    {
      "cell_type": "code",
      "metadata": {
        "id": "mWUpx4JX0WHk",
        "colab_type": "code",
        "outputId": "c8f97669-7fa5-4b37-e2db-4abcc316b73d",
        "colab": {
          "base_uri": "https://localhost:8080/",
          "height": 51
        }
      },
      "source": [
        "score = model.evaluate(x_test, y_test, verbose=0)\n",
        "print('Test loss:', score[0])\n",
        "print('Test accuracy:', score[1])"
      ],
      "execution_count": 11,
      "outputs": [
        {
          "output_type": "stream",
          "text": [
            "Test loss: 0.048503033532325934\n",
            "Test accuracy: 0.9836\n"
          ],
          "name": "stdout"
        }
      ]
    },
    {
      "cell_type": "code",
      "metadata": {
        "id": "Tn4O6ZIgCgjO",
        "colab_type": "code",
        "colab": {}
      },
      "source": [
        "model.save(\"CNN.h5\")"
      ],
      "execution_count": 0,
      "outputs": []
    },
    {
      "cell_type": "code",
      "metadata": {
        "id": "Vb8SiKxYDObl",
        "colab_type": "code",
        "outputId": "a1984cb4-4dbd-4e64-f217-af30e7761d4c",
        "colab": {
          "base_uri": "https://localhost:8080/",
          "height": 930
        }
      },
      "source": [
        "plot_model(model)\n",
        "\n",
        "import matplotlib.pyplot as plt\n",
        "\n",
        "history = model.fit(x_train, y_train, validation_split=0.25, epochs=10, batch_size=16, verbose=1)\n",
        "\n",
        "# Plot training & validation accuracy values\n",
        "plt.plot(history.history['acc'])\n",
        "plt.plot(history.history['val_acc'])\n",
        "plt.title('Model accuracy')\n",
        "plt.ylabel('Accuracy')\n",
        "plt.xlabel('Epoch')\n",
        "plt.legend(['Train', 'Test'], loc='upper left')\n",
        "plt.show()\n",
        "\n",
        "# Plot training & validation loss values\n",
        "plt.plot(history.history['loss'])\n",
        "plt.plot(history.history['val_loss'])\n",
        "plt.title('Model loss')\n",
        "plt.ylabel('Loss')\n",
        "plt.xlabel('Epoch')\n",
        "plt.legend(['Train', 'Test'], loc='upper left')\n",
        "plt.show()\n"
      ],
      "execution_count": 13,
      "outputs": [
        {
          "output_type": "stream",
          "text": [
            "Train on 45000 samples, validate on 15000 samples\n",
            "Epoch 1/10\n",
            "45000/45000 [==============================] - 20s 451us/step - loss: 0.1103 - acc: 0.9692 - val_loss: 0.0538 - val_acc: 0.9835\n",
            "Epoch 2/10\n",
            "45000/45000 [==============================] - 20s 453us/step - loss: 0.0839 - acc: 0.9768 - val_loss: 0.0519 - val_acc: 0.9865\n",
            "Epoch 3/10\n",
            "45000/45000 [==============================] - 20s 441us/step - loss: 0.0708 - acc: 0.9811 - val_loss: 0.0464 - val_acc: 0.9869\n",
            "Epoch 4/10\n",
            "45000/45000 [==============================] - 20s 447us/step - loss: 0.0637 - acc: 0.9820 - val_loss: 0.0429 - val_acc: 0.9882\n",
            "Epoch 5/10\n",
            "45000/45000 [==============================] - 20s 452us/step - loss: 0.0600 - acc: 0.9833 - val_loss: 0.0459 - val_acc: 0.9877\n",
            "Epoch 6/10\n",
            "45000/45000 [==============================] - 21s 463us/step - loss: 0.0576 - acc: 0.9839 - val_loss: 0.0433 - val_acc: 0.9891\n",
            "Epoch 7/10\n",
            "45000/45000 [==============================] - 20s 436us/step - loss: 0.0548 - acc: 0.9857 - val_loss: 0.0469 - val_acc: 0.9860\n",
            "Epoch 8/10\n",
            "45000/45000 [==============================] - 20s 445us/step - loss: 0.0516 - acc: 0.9854 - val_loss: 0.0529 - val_acc: 0.9852\n",
            "Epoch 9/10\n",
            "45000/45000 [==============================] - 21s 457us/step - loss: 0.0516 - acc: 0.9855 - val_loss: 0.0431 - val_acc: 0.9881\n",
            "Epoch 10/10\n",
            "45000/45000 [==============================] - 20s 448us/step - loss: 0.0510 - acc: 0.9862 - val_loss: 0.0480 - val_acc: 0.9875\n"
          ],
          "name": "stdout"
        },
        {
          "output_type": "display_data",
          "data": {
            "image/png": "[encoded data removed]",
            "text/plain": [
              "<Figure size 432x288 with 1 Axes>"
            ]
          },
          "metadata": {
            "tags": []
          }
        },
        {
          "output_type": "display_data",
          "data": {
            "image/png": "[encoded data removed]",
            "text/plain": [
              "<Figure size 432x288 with 1 Axes>"
            ]
          },
          "metadata": {
            "tags": []
          }
        }
      ]
    }
  ]
}